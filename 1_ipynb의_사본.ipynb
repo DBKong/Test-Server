{
  "nbformat": 4,
  "nbformat_minor": 0,
  "metadata": {
    "colab": {
      "private_outputs": true,
      "provenance": []
    },
    "kernelspec": {
      "name": "python3",
      "display_name": "Python 3"
    },
    "language_info": {
      "name": "python"
    },
    "accelerator": "GPU",
    "gpuClass": "standard"
  },
  "cells": [
    {
      "cell_type": "code",
      "execution_count": null,
      "metadata": {
        "id": "qlO1YaMjszm6"
      },
      "outputs": [],
      "source": [
        "import matplotlib as mpl\n",
        "import matplotlib.pyplot as plt\n",
        "plt.style.use('seaborn-white')\n",
        "\n",
        "%config InlineBackend.figure_format='retina'\n",
        "\n",
        "!apt -qq -y install fonts-nanum\n",
        "\n",
        "import matplotlib.font_manager as fm\n",
        "fontpath = '/usr/share/fonts/truetype/nanum/NanumBarunGothic.ttf'\n",
        "font = fm.FontProperties(fname=fontpath, size=10)\n",
        "plt.rc('font', family='NanumBarunGothic')\n",
        "mpl.font_manager._rebuild()"
      ]
    },
    {
      "cell_type": "code",
      "source": [
        "!curl -s https://raw.githubusercontent.com/teddylee777/machine-learning/master/99-Misc/01-Colab/mecab-colab.sh | bash"
      ],
      "metadata": {
        "id": "pcC6A33SA_3r"
      },
      "execution_count": null,
      "outputs": []
    },
    {
      "cell_type": "code",
      "source": [
        "import urllib.request\n",
        "\n",
        "raw = urllib.request.urlopen('https://raw.githubusercontent.com/e9t/nsmc/master/ratings.txt').readlines()\n",
        "print(raw[:5])"
      ],
      "metadata": {
        "id": "gpQQ-OTzCBq_"
      },
      "execution_count": null,
      "outputs": []
    },
    {
      "cell_type": "code",
      "source": [
        "raw = [x.decode() for x in raw[1:]]\n",
        "\n",
        "reviews = []\n",
        "for i in raw:\n",
        "    reviews.append(i.split('\\t')[1])\n",
        "\n",
        "print(reviews[:5])    "
      ],
      "metadata": {
        "id": "YJRRB4FTDaLx"
      },
      "execution_count": null,
      "outputs": []
    },
    {
      "cell_type": "code",
      "source": [
        "from konlpy.tag import Mecab\n",
        "tagger = Mecab()\n",
        "\n",
        "reviews_nouns = []\n",
        "for review in reviews:\n",
        "    for noun in tagger.nouns(review):\n",
        "        reviews_nouns.append(noun)\n",
        "\n",
        "reviews_nouns[:10]"
      ],
      "metadata": {
        "id": "pb9oDuI4HjKH"
      },
      "execution_count": null,
      "outputs": []
    },
    {
      "cell_type": "code",
      "source": [
        "stop_words = '전 난 일 걸 뭐 줄 만 건 분 개 끝 잼 이거 번 중 듯 때 게 내 말 나 수 거 점 것 후 이 애 씨 속 뿐 밋 그 급 ㄷ 데'\n",
        "stop_words = stop_words.split(' ')\n",
        "print(stop_words)"
      ],
      "metadata": {
        "id": "63A4g0dwI6iw"
      },
      "execution_count": null,
      "outputs": []
    },
    {
      "cell_type": "code",
      "source": [
        "reviews_nouns = []\n",
        "\n",
        "for review in reviews:\n",
        "    for noun in tagger.nouns(review):\n",
        "        if noun not in stop_words:\n",
        "            reviews_nouns.append(noun)\n",
        "            \n",
        "reviews_nouns[:10]"
      ],
      "metadata": {
        "id": "YF5p36vFJYep"
      },
      "execution_count": null,
      "outputs": []
    },
    {
      "cell_type": "code",
      "source": [
        "from collections import Counter\n",
        "\n",
        "reviews_nouns_counter = Counter(reviews_nouns)\n",
        "top_reviews_nouns = dict(reviews_nouns_counter.most_common(100))\n",
        "top_reviews_nouns"
      ],
      "metadata": {
        "id": "uedC-CweJy3W"
      },
      "execution_count": null,
      "outputs": []
    },
    {
      "cell_type": "code",
      "source": [
        "import numpy as np\n",
        "\n",
        "plt.rcParams['font.size'] = 12\n",
        "\n",
        "y_pos = np.arange(len(top_reviews_nouns))\n",
        "\n",
        "plt.figure(figsize=(12, 20))\n",
        "plt.barh(y_pos, top_reviews_nouns.values())\n",
        "plt.title('Word Count')\n",
        "plt.yticks(y_pos, top_reviews_nouns.key())\n",
        "plt.show() ."
      ],
      "metadata": {
        "id": "Zn9108tOOL0N"
      },
      "execution_count": null,
      "outputs": []
    },
    {
      "cell_type": "code",
      "source": [
        "!pip install squarify"
      ],
      "metadata": {
        "id": "HW8u5GkuPLhB"
      },
      "execution_count": null,
      "outputs": []
    },
    {
      "cell_type": "code",
      "source": [
        "import squarify\n",
        "\n",
        "plt.rcParams['figure.figsize'] = (14, 14)\n",
        "plt.rcParams['font.size'] = 20\n",
        "\n",
        "norm = mpl.colors.Normalize(vmin=min(top_reviews_nouns.values()),\n",
        "                            vmax=max(top_reviews_nouns.values()))\n",
        "colors = [mpl.cm.Reds(norm(value)) for value in top_reviews_nouns.values()]\n",
        "\n",
        "squarify.plot(label=top_reviews_nouns.keys(),\n",
        "              sizes=top_reviews_nouns.values(),\n",
        "              color=colors,\n",
        "              alpha=.7);"
      ],
      "metadata": {
        "id": "zuBdvMo7QTBs"
      },
      "execution_count": null,
      "outputs": []
    },
    {
      "cell_type": "code",
      "source": [
        "!pip install wordcloud"
      ],
      "metadata": {
        "id": "kpf4K7U1R0Zu"
      },
      "execution_count": null,
      "outputs": []
    },
    {
      "cell_type": "code",
      "source": [
        "from wordcloud import WordCloud\n",
        "\n",
        "wc = WordCloud(background_color='white', font_path='./font/NanumBarunGothic.ttf')\n",
        "wc.generate_from_frequencies(top_reviews_nouns)"
      ],
      "metadata": {
        "id": "bGK-X-9xSXtE"
      },
      "execution_count": null,
      "outputs": []
    },
    {
      "cell_type": "code",
      "source": [
        "figure = plt.figure(figsize=(12, 12))\n",
        "ax = figure.add_subplot(1, 1, 1)\n",
        "ax.axis('off')\n",
        "ax.imshow(wc)\n",
        "plt.show()"
      ],
      "metadata": {
        "id": "QxvyNipdS-f4"
      },
      "execution_count": null,
      "outputs": []
    },
    {
      "cell_type": "markdown",
      "source": [],
      "metadata": {
        "id": "T1xhMoSFZE6S"
      }
    },
    {
      "cell_type": "code",
      "source": [
        "import os \n",
        "import sys\n",
        "import urllib.request\n",
        "import pandas as pd\n",
        "import json\n",
        "import re\n",
        "\n",
        "client_id = 'DROAWyjYSQZL8FUNzrl6'\n",
        "client_secret = 'O4PFLCpmWq'\n",
        "\n",
        "query = urllib.parse.quote(input(\"검색어를 입력하세요: \"))\n",
        "idx = 0\n",
        "display = 100\n",
        "start = 1\n",
        "end = 1000\n",
        "\n",
        "web_df = pd.DataFrame(columns=('Title', 'Link', 'Description'))\n",
        "\n",
        "for start_index in range(start, end, display):\n",
        "\n",
        "    url = 'https://openapi.naver.com/v1/search/news?query=' + query \\\n",
        "    + '&display=' + str(display) + '&start=' + str(start_index)\n",
        "    # 네이버 최초 페이지에서 데이터 수집 시 'news' -> 'webkr'로 변경\n",
        "    # Datetime(이수안 '텍스트 수집 및 키워드 분석 한번에 끝내기 1:06:58)\n",
        "    # pubDate = datetime\n",
        "\n",
        "    request = urllib.request.Request(url)\n",
        "    request.add_header('X-Naver-Client-id', client_id)\n",
        "    request.add_header('X-Naver-Client-Secret', client_secret)\n",
        "    response = urllib.request.urlopen(request)\n",
        "    rescode = response.getcode()\n",
        "\n",
        "    if(rescode == 200):\n",
        "        response_body = response.read()\n",
        "        response_dict = json.loads(response_body.decode('utf-8'))\n",
        "        items = response_dict['items']\n",
        "        for item_index in range(0, len(items)):\n",
        "            remove_tag = re.compile('<.*?>')\n",
        "            title = re.sub(remove_tag, '', items[item_index]['title'])\n",
        "            link = items[item_index]['link']\n",
        "            description = re.sub(remove_tag, '', items[item_index]['description'])\n",
        "            web_df.loc[idx] = [title, link, description]\n",
        "            idx += 1\n",
        "    else:\n",
        "        print(\"Error Code: \" + rescode)\n",
        "\n",
        "web_df"
      ],
      "metadata": {
        "id": "ItkGxxjoTU61"
      },
      "execution_count": null,
      "outputs": []
    },
    {
      "cell_type": "code",
      "source": [
        "web_df.to_csv('./df1.csv',index=False, encoding = 'utf-8-sig')\n",
        "# 이름 수정 시 '.df.csv 이름 변경"
      ],
      "metadata": {
        "id": "d1N0b2SIA420"
      },
      "execution_count": null,
      "outputs": []
    },
    {
      "cell_type": "code",
      "source": [
        "web = []\n",
        "for d in web_df.Description:\n",
        "    web.append(d)\n",
        "\n",
        "print(web[:100])   "
      ],
      "metadata": {
        "id": "fBRIpH1ygwgu"
      },
      "execution_count": null,
      "outputs": []
    },
    {
      "cell_type": "code",
      "source": [
        "stop_words = '분야 수 것 등 기반 일 년 말 문 월 이 명 깨 개 중 범 부 딥 빅 책 분 봉 차 나 내 전 억 대 형 선 사 폼 원 번'\n",
        "stop_words = stop_words.split(' ')\n",
        "print(stop_words)"
      ],
      "metadata": {
        "id": "Bf04j-ZHr_OR"
      },
      "execution_count": null,
      "outputs": []
    },
    {
      "cell_type": "code",
      "source": [
        "!apt-get update\n",
        "!apt-get install g++ openjdk-8-jdk \n",
        "!pip3 install konlpy JPype1-py3\n",
        "!bash <(curl -s https://raw.githubusercontent.com/konlpy/konlpy/master/scripts/mecab.sh)"
      ],
      "metadata": {
        "id": "4N77YrMTEI9_"
      },
      "execution_count": null,
      "outputs": []
    },
    {
      "cell_type": "code",
      "source": [
        "!pip install konlpy\n",
        "from konlpy.tag import Mecab\n",
        "\n",
        "tagger = Mecab()\n",
        "web_nouns = []\n",
        "for w in web:\n",
        "    for noun in tagger.nouns(w):\n",
        "        if noun not in stop_words:\n",
        "            web_nouns.append(noun)\n",
        "\n",
        "web_nouns[:10]"
      ],
      "metadata": {
        "id": "snXGM9D2sdV5"
      },
      "execution_count": null,
      "outputs": []
    },
    {
      "cell_type": "code",
      "source": [
        "from collections import Counter\n",
        "web_nouns_counter = Counter(web_nouns)\n",
        "top_web_nouns = dict(web_nouns_counter.most_common(100))\n",
        "top_web_nouns"
      ],
      "metadata": {
        "id": "sss4f56Qwldd"
      },
      "execution_count": null,
      "outputs": []
    },
    {
      "cell_type": "code",
      "source": [
        "web_df.to_csv('./df.csv',index=False, encoding = 'utf-8-sig')"
      ],
      "metadata": {
        "id": "8tppbtwmJri7"
      },
      "execution_count": null,
      "outputs": []
    },
    {
      "cell_type": "code",
      "source": [
        "import matplotlib.pyplot as plt\n",
        "import numpy\n",
        "\n",
        "plt.rcParams['font.size'] = 12\n",
        "\n",
        "y_pos = numpy.arange(len(top_web_nouns))\n",
        "\n",
        "plt.figure(figsize=(12, 24))\n",
        "plt.barh(y_pos, top_web_nouns.values())\n",
        "plt.title('Word Count')\n",
        "plt.yticks(y_pos, top_web_nouns.keys())\n",
        "plt.show()"
      ],
      "metadata": {
        "id": "ON97tQqRIU6c"
      },
      "execution_count": null,
      "outputs": []
    },
    {
      "cell_type": "code",
      "source": [],
      "metadata": {
        "id": "vr3BSVCJJYSg"
      },
      "execution_count": null,
      "outputs": []
    },
    {
      "cell_type": "code",
      "source": [],
      "metadata": {
        "id": "6ldROs4UKR95"
      },
      "execution_count": null,
      "outputs": []
    },
    {
      "cell_type": "code",
      "source": [
        "import numpy as np\n",
        "\n"
      ],
      "metadata": {
        "id": "_0q3rXpu4qt3"
      },
      "execution_count": null,
      "outputs": []
    },
    {
      "cell_type": "code",
      "source": [
        "data = pd.DataFrame(columns=['Title', ' Original Link', 'Link', 'Description', 'Publication Date'], index = range(10))\n",
        "data"
      ],
      "metadata": {
        "id": "hvjhZV698qSc"
      },
      "execution_count": null,
      "outputs": []
    },
    {
      "cell_type": "code",
      "source": [
        "data_dict = {'Title':city}\n",
        "data = pd.DataFrame(data_dict)\n",
        "data"
      ],
      "metadata": {
        "id": "YkjQi1S98qcT"
      },
      "execution_count": null,
      "outputs": []
    },
    {
      "cell_type": "code",
      "source": [],
      "metadata": {
        "id": "B8FyU6gT8qkY"
      },
      "execution_count": null,
      "outputs": []
    },
    {
      "cell_type": "code",
      "source": [],
      "metadata": {
        "id": "Xib6NCn08qsa"
      },
      "execution_count": null,
      "outputs": []
    },
    {
      "cell_type": "code",
      "source": [],
      "metadata": {
        "id": "fIMHtB4y8qz6"
      },
      "execution_count": null,
      "outputs": []
    },
    {
      "cell_type": "code",
      "source": [],
      "metadata": {
        "id": "5bacFg0M8q7K"
      },
      "execution_count": null,
      "outputs": []
    },
    {
      "cell_type": "code",
      "source": [],
      "metadata": {
        "id": "Jw3taljc8rCF"
      },
      "execution_count": null,
      "outputs": []
    },
    {
      "cell_type": "code",
      "source": [
        "news = []\n",
        "for n in news_df.Title:\n",
        "    news.append(n)\n",
        "\n",
        "print(news[:5])    "
      ],
      "metadata": {
        "id": "m_km-57621Ps"
      },
      "execution_count": null,
      "outputs": []
    },
    {
      "cell_type": "code",
      "source": [
        "tagger = Mecab()\n",
        "news_nouns = []\n",
        "for n in news:\n",
        "    for noun in tagger.nouns(n):\n",
        "        if noun not in stop_words:\n",
        "            news_nouns.append(noun)\n",
        "\n",
        "    news_nouns[:5]       "
      ],
      "metadata": {
        "id": "lKi9S3FY4frT"
      },
      "execution_count": null,
      "outputs": []
    },
    {
      "cell_type": "code",
      "source": [],
      "metadata": {
        "id": "-IcOfsI_2LHT"
      },
      "execution_count": null,
      "outputs": []
    },
    {
      "cell_type": "code",
      "source": [
        "stop_words = '인공지능 인공 지능 분야 수 것 등 기반 일 년 말 문 월 이 명 깨 개 중 범 부 딥 빅 책 분 봉 차 나 내 전 억 대 형 선 사 폼 원 번'\n",
        "stop_words = stop_words.split(' ')\n",
        "print(stop_words)"
      ],
      "metadata": {
        "id": "hUFinZD-2LlY"
      },
      "execution_count": null,
      "outputs": []
    },
    {
      "cell_type": "code",
      "source": [],
      "metadata": {
        "id": "nynsB6q02LpB"
      },
      "execution_count": null,
      "outputs": []
    },
    {
      "cell_type": "code",
      "source": [],
      "metadata": {
        "id": "LWIWQljP2Lvc"
      },
      "execution_count": null,
      "outputs": []
    },
    {
      "cell_type": "code",
      "source": [
        "import matplotlib.pyplot as plt\n",
        "plt.title('안녕');"
      ],
      "metadata": {
        "id": "_0WzrseG5Tkk"
      },
      "execution_count": null,
      "outputs": []
    },
    {
      "cell_type": "code",
      "source": [
        "!apt-get update -qq\n",
        "!apt-get install fonte-nanum* -qq"
      ],
      "metadata": {
        "id": "oHDti3xp5xWG"
      },
      "execution_count": null,
      "outputs": []
    },
    {
      "cell_type": "code",
      "source": [
        "import requests\n",
        "\n",
        "# 특정 URL에 접속하는 요청(Request) 객체를 생성합니다.\n",
        "request = requests.get('http://www.dowellcomputer.com/main.jsp')\n",
        "\n",
        "# 접속한 이후의 웹 사이트 소스코드를 추출합니다\n",
        "html = request.text.strip()\n",
        "\n",
        "print(html)"
      ],
      "metadata": {
        "id": "FPPE-YRt_CWS"
      },
      "execution_count": null,
      "outputs": []
    },
    {
      "cell_type": "code",
      "source": [
        "import requests\n",
        "from bs4 import BeautifulSoup\n",
        "\n",
        "# 특정 URL에 접속하는 요청(Request) 객체를 생성합니다.\n",
        "request = requests.get('http://www.dowellcomputer.com/main.jsp')\n",
        "# 접속한 이후의 웹 사이트 소스코드를 추출합니다.\n",
        "html = request.text\n",
        "# HTML 소스코드를 파이썬 BeatifulSoup 객체로 변환합니다.\n",
        "soup = BeautifulSoup(html, 'html.parser')\n",
        "\n",
        "# <a> 태그를 포함하는 요소를 추출합니다.\n",
        "links = soup.select('td > a')\n",
        "\n",
        "# 모든 링크에 하나씩 접근합니다.\n",
        "for link in links:\n",
        "  # 링크가 href 속성을 가지고 있다면\n",
        "  if link.has_attr('href'):\n",
        "    # href 속성의 값으로 notice라는 문자가 포함되어 있다면\n",
        "    if link.get('href').find('notice') != -1:\n",
        "      print(link.text)"
      ],
      "metadata": {
        "id": "ynSepcBM_Iv7"
      },
      "execution_count": null,
      "outputs": []
    },
    {
      "cell_type": "code",
      "source": [
        "!pip install selenium\n",
        "!apt-get update\n",
        "!apt install chromium-chromedriver\n",
        "\n",
        "from selenium import webdriver\n",
        "from urllib.request import urlopen\n",
        "from bs4 import BeautifulSoup as bs\n",
        "from urllib.parse import quote_plus\n",
        "from selenium.webdriver.common.keys import Keys\n",
        "import time\n",
        "from IPython.display import Image\n",
        "import urllib\n",
        "\n",
        "from google.colab import drive\n",
        "drive.mount('/content/gdrive')\n",
        "#셀레니움으로 크롬 열기\n",
        "chrome_options = webdriver.ChromeOptions()\n",
        "chrome_options.add_argument('--headless')\n",
        "chrome_options.add_argument('--no-sandbox')\n",
        "chrome_options.add_argument('--disable-dev-shm-usage')\n",
        "driver = webdriver.Chrome('chromedriver', chrome_options=chrome_options)"
      ],
      "metadata": {
        "id": "qcA5g9CUAAPL"
      },
      "execution_count": null,
      "outputs": []
    },
    {
      "cell_type": "code",
      "source": [
        "import request\n",
        "from bs4 import BeautifulSoup\n",
        "\n",
        "res = requests.get('')\n",
        "soup = BeautifulSoup"
      ],
      "metadata": {
        "id": "-YXfWYNPChkf"
      },
      "execution_count": null,
      "outputs": []
    },
    {
      "cell_type": "code",
      "source": [],
      "metadata": {
        "id": "4Bfrkc5kCiBC"
      },
      "execution_count": null,
      "outputs": []
    },
    {
      "cell_type": "code",
      "source": [],
      "metadata": {
        "id": "By0hwmxtCiHX"
      },
      "execution_count": null,
      "outputs": []
    },
    {
      "cell_type": "code",
      "source": [],
      "metadata": {
        "id": "x9Ad3pJkel8s"
      },
      "execution_count": null,
      "outputs": []
    },
    {
      "cell_type": "markdown",
      "source": [
        "## **GUI 프로그래밍**\n",
        "\n",
        "```\n",
        "# 코드로 형식 지정됨\n",
        "```\n",
        "\n"
      ],
      "metadata": {
        "id": "xvl5qAGIeZMK"
      }
    },
    {
      "cell_type": "code",
      "source": [
        "# tkinter\n",
        "\n",
        "from tkinter import *\n",
        "\n",
        "root = tk()\n",
        "root.mainloop()"
      ],
      "metadata": {
        "id": "hLgX9ntweowx"
      },
      "execution_count": null,
      "outputs": []
    },
    {
      "cell_type": "code",
      "source": [],
      "metadata": {
        "id": "o1gJDZwke3kT"
      },
      "execution_count": null,
      "outputs": []
    }
  ]
}